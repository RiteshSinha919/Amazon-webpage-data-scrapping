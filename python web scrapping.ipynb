{
 "cells": [
  {
   "cell_type": "code",
   "execution_count": null,
   "id": "bc5941b2",
   "metadata": {},
   "outputs": [],
   "source": [
    "from bs4 import BeautifulSoup\n",
    "import pandas as pd\n",
    "import time\n",
    "import datetime\n",
    "import requests\n",
    "import datetime\n",
    "import csv"
   ]
  },
  {
   "cell_type": "code",
   "execution_count": null,
   "id": "bae85865",
   "metadata": {},
   "outputs": [],
   "source": [
    "#setting the url and header for the webpage\n",
    "url = ('https://www.amazon.in/All-new-Echo-Dot-with-clock/dp/B084J4MZQM/ref=sr_1_7?crid=3V3T5XYWY8PXA&keywords=alexa&qid=1659934433&s=amazon-devices&sprefix=alex%2Camazon-devices%2C232&sr=1-7')\n",
    "header = {\"User-Agent\": \"Mozilla/5.0 (Windows NT 10.0; Win64; x64) AppleWebKit/537.36 (KHTML, like Gecko) Chrome/103.0.0.0 Safari/537.36\", \"Accept-Encoding\":\"gzip, deflate\", \"Accept\":\"text/html,application/xhtml+xml,application/xml;q=0.9,*/*;q=0.8\", \"DNT\":\"1\",\"Connection\":\"close\", \"Upgrade-Insecure-Requests\":\"1\"}\n",
    "web_page = requests.get(url,headers = header)"
   ]
  },
  {
   "cell_type": "code",
   "execution_count": null,
   "id": "9ba86fd4",
   "metadata": {},
   "outputs": [],
   "source": [
    "#extracting the data from the webpage\n",
    "soup = BeautifulSoup(web_page.content,'html.parser')\n",
    "soup"
   ]
  },
  {
   "cell_type": "code",
   "execution_count": null,
   "id": "887c375e",
   "metadata": {},
   "outputs": [],
   "source": [
    "#simplifying the extracted data\n",
    "soup1 = BeautifulSoup(soup.prettify(),'html.parser')\n",
    "soup1"
   ]
  },
  {
   "cell_type": "code",
   "execution_count": null,
   "id": "6f50b954",
   "metadata": {},
   "outputs": [],
   "source": [
    "#extracting the meaningful data from the messy extracted data\n",
    "p_name = soup1.find(id='productTitle').get_text().strip()\n",
    "p_name"
   ]
  },
  {
   "cell_type": "code",
   "execution_count": null,
   "id": "19979b50",
   "metadata": {},
   "outputs": [],
   "source": [
    "p_price = soup1.select_one(\"span[class*='a-offscreen']\").get_text().strip()\n",
    "p_price"
   ]
  },
  {
   "cell_type": "code",
   "execution_count": null,
   "id": "57ce8fb8",
   "metadata": {},
   "outputs": [],
   "source": [
    "p_rating = soup1.select_one(\"span[class*='a-icon-alt']\").get_text().strip()\n",
    "p_rating"
   ]
  },
  {
   "cell_type": "code",
   "execution_count": null,
   "id": "64147b18",
   "metadata": {},
   "outputs": [],
   "source": [
    "p_total_ratings = soup1.find(id='acrCustomerReviewText').get_text().strip()\n",
    "p_total_ratings"
   ]
  },
  {
   "cell_type": "code",
   "execution_count": null,
   "id": "0e4b4e1c",
   "metadata": {},
   "outputs": [],
   "source": [
    "date = datetime.date.today()\n",
    "print(date)"
   ]
  },
  {
   "cell_type": "code",
   "execution_count": null,
   "id": "52a5bdb7",
   "metadata": {},
   "outputs": [],
   "source": [
    "#creating list of column headers and the data values\n",
    "header = ['Product','Price','Rating','Total number of ratings','date']\n",
    "data = [p_name,p_price[1:],p_rating[:3],p_total_ratings[:5],date]"
   ]
  },
  {
   "cell_type": "code",
   "execution_count": null,
   "id": "4c783156",
   "metadata": {},
   "outputs": [],
   "source": [
    "#creating a csv file to save the data\n",
    "with open('amazon_scrapped_data.csv','w',newline='',encoding = 'UTF8') as f:\n",
    "    editor = csv.writer(f)\n",
    "    editor.writerow(header)\n",
    "    editor.writerow(data)"
   ]
  },
  {
   "cell_type": "code",
   "execution_count": null,
   "id": "bae5ad35",
   "metadata": {},
   "outputs": [],
   "source": [
    "file = pd.read_csv(r'C:\\Users\\Ritesh\\amazon_scrapped_data.csv')\n",
    "file"
   ]
  },
  {
   "cell_type": "code",
   "execution_count": null,
   "id": "9c3eb209",
   "metadata": {},
   "outputs": [],
   "source": [
    "#appending the new data to the previously created csv file\n",
    "with open('amazon_scrapped_data.csv','a+') as f:\n",
    "    editor = csv.writer(f)\n",
    "    editor.writerow(data)"
   ]
  },
  {
   "cell_type": "code",
   "execution_count": null,
   "id": "bbbbcab4",
   "metadata": {},
   "outputs": [],
   "source": [
    "#automating the whole process\n",
    "def data_scrapper():\n",
    "    url = ('https://www.amazon.in/All-new-Echo-Dot-with-clock/dp/B084J4MZQM/ref=sr_1_7?crid=3V3T5XYWY8PXA&keywords=alexa&qid=1659934433&s=amazon-devices&sprefix=alex%2Camazon-devices%2C232&sr=1-7')\n",
    "    header = {\"User-Agent\": \"Mozilla/5.0 (Windows NT 10.0; Win64; x64) AppleWebKit/537.36 (KHTML, like Gecko) Chrome/103.0.0.0 Safari/537.36\", \"Accept-Encoding\":\"gzip, deflate\", \"Accept\":\"text/html,application/xhtml+xml,application/xml;q=0.9,*/*;q=0.8\", \"DNT\":\"1\",\"Connection\":\"close\", \"Upgrade-Insecure-Requests\":\"1\"}\n",
    "    web_page = requests.get(url,headers = header)\n",
    "    soup = BeautifulSoup(web_page.content,'html.parser')\n",
    "    soup1 = BeautifulSoup(soup.prettify(),'html.parser')\n",
    "    p_name = soup1.find(id='productTitle').get_text().strip()\n",
    "    p_price = soup1.select_one(\"span[class*='a-offscreen']\").get_text().strip()\n",
    "    p_rating = soup1.select_one(\"span[class*='a-icon-alt']\").get_text().strip()\n",
    "    p_total_ratings = soup1.find(id='acrCustomerReviewText').get_text().strip()\n",
    "    date = datetime.date.today()\n",
    "    header = ['Product','Price','Rating','Total number of ratings','date']\n",
    "    data = [p_name,int(float(p_price.replace(',','')[1:])),p_rating[:3],int(p_total_ratings.replace(',','')[:5]),date]\n",
    "    with open('amazon_scrapped_data.csv','a+') as f:\n",
    "        editor = csv.writer(f)\n",
    "        editor.writerow(data)"
   ]
  },
  {
   "cell_type": "code",
   "execution_count": null,
   "id": "0d92f83b",
   "metadata": {},
   "outputs": [],
   "source": [
    "#defining a loop so as to run the data appending process after every single day\n",
    "while (True):\n",
    "    data_scrapper();\n",
    "    time.sleep(86400)\n",
    "    "
   ]
  },
  {
   "cell_type": "code",
   "execution_count": null,
   "id": "8ef88812",
   "metadata": {},
   "outputs": [],
   "source": [
    "file = pd.read_csv(r'C:\\Users\\Ritesh\\amazon_scrapped_data.csv')\n",
    "file"
   ]
  },
  {
   "cell_type": "code",
   "execution_count": null,
   "id": "aac35737",
   "metadata": {},
   "outputs": [],
   "source": []
  },
  {
   "cell_type": "code",
   "execution_count": null,
   "id": "33487376",
   "metadata": {},
   "outputs": [],
   "source": []
  }
 ],
 "metadata": {
  "kernelspec": {
   "display_name": "Python 3 (ipykernel)",
   "language": "python",
   "name": "python3"
  },
  "language_info": {
   "codemirror_mode": {
    "name": "ipython",
    "version": 3
   },
   "file_extension": ".py",
   "mimetype": "text/x-python",
   "name": "python",
   "nbconvert_exporter": "python",
   "pygments_lexer": "ipython3",
   "version": "3.9.12"
  }
 },
 "nbformat": 4,
 "nbformat_minor": 5
}
